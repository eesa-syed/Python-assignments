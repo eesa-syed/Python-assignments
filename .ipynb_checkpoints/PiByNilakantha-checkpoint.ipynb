{
 "cells": [
  {
   "cell_type": "code",
   "execution_count": 2,
   "metadata": {},
   "outputs": [
    {
     "name": "stdout",
     "output_type": "stream",
     "text": [
      "3.1666666666666665\n",
      "3.1333333333333333\n",
      "3.145238095238095\n",
      "3.1396825396825396\n",
      "3.1427128427128426\n",
      "3.1408813408813407\n",
      "3.142071817071817\n",
      "3.1412548236077646\n",
      "3.141839618929402\n",
      "3.1414067184965018\n",
      "None\n"
     ]
    }
   ],
   "source": [
    "import math\n",
    "def NilakanthaSeries(terms,a,b,c,place,value):\n",
    "    if(terms<place):\n",
    "        exit()\n",
    "    else:\n",
    "        value=(((-1)**(place+1))*4/(a*b*c)+value)\n",
    "        a+=2\n",
    "        b+=2\n",
    "        c+=2\n",
    "        place+=1\n",
    "        print(value)\n",
    "        return (NilakanthaSeries(terms,a,b,c,place,value))\n",
    "pi=NilakanthaSeries(10,2,3,4,1,3)\n",
    "print(pi)"
   ]
  },
  {
   "cell_type": "code",
   "execution_count": null,
   "metadata": {},
   "outputs": [],
   "source": []
  }
 ],
 "metadata": {
  "kernelspec": {
   "display_name": "Python 3",
   "language": "python",
   "name": "python3"
  },
  "language_info": {
   "codemirror_mode": {
    "name": "ipython",
    "version": 3
   },
   "file_extension": ".py",
   "mimetype": "text/x-python",
   "name": "python",
   "nbconvert_exporter": "python",
   "pygments_lexer": "ipython3",
   "version": "3.8.4"
  }
 },
 "nbformat": 4,
 "nbformat_minor": 4
}
