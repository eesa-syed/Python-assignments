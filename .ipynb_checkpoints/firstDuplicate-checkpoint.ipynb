{
 "cells": [
  {
   "cell_type": "code",
   "execution_count": 1,
   "metadata": {},
   "outputs": [],
   "source": [
    "def printFirstDuplicate(arr,n):\n",
    "    Dup = -1\n",
    "    myset = dict()\n",
    "    for i in range(0,n-1,+1):\n",
    "        if arr[i] in myset.keys():\n",
    "            Dup = i\n",
    "        else:\n",
    "            myset[arr[i]] = 1\n",
    "    print(\"repeting element is\",arr[Dup])"
   ]
  },
  {
   "cell_type": "code",
   "execution_count": 3,
   "metadata": {},
   "outputs": [
    {
     "name": "stdout",
     "output_type": "stream",
     "text": [
      "repeting element is 3\n"
     ]
    }
   ],
   "source": [
    "arr=[2,1,3,5,3,2]\n",
    "n=len(arr)\n",
    "printFirstDuplicate(arr,n)"
   ]
  },
  {
   "cell_type": "code",
   "execution_count": null,
   "metadata": {},
   "outputs": [],
   "source": []
  }
 ],
 "metadata": {
  "kernelspec": {
   "display_name": "Python 3",
   "language": "python",
   "name": "python3"
  },
  "language_info": {
   "codemirror_mode": {
    "name": "ipython",
    "version": 3
   },
   "file_extension": ".py",
   "mimetype": "text/x-python",
   "name": "python",
   "nbconvert_exporter": "python",
   "pygments_lexer": "ipython3",
   "version": "3.8.4"
  }
 },
 "nbformat": 4,
 "nbformat_minor": 4
}
